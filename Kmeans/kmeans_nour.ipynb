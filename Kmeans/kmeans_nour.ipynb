{
 "cells": [
  {
   "cell_type": "markdown",
   "id": "f9116800-d8a7-400a-a70f-f12d378efecf",
   "metadata": {},
   "source": [
    "# K-means"
   ]
  },
  {
   "cell_type": "markdown",
   "id": "b0b73279-f995-481b-9187-68b71bc18561",
   "metadata": {},
   "source": [
    "This is Noor Aldeen Almusleh's work for coding assignment \\#1\n",
    "## Question:\n",
    "\n",
    "Given a set of two dimensional points P (e.g. [(1.1, 2.5), (3.4,1.9)...]; the size of set can be 100s), write a function that calculates simple K-means. The expected returned value from the function is\n",
    "\n",
    "1. a set of cluster id that each point belongs to, and\n",
    "2. coordinates of centroids at the end of the iterations\n",
    "\n",
    "Please use Python with standard libraries like numpy or pandas, but do not use Scikit-learn's k-means or any other k-means library, the idea is for you to implement k-means from scratch. Feel free to research and look up any information you need, but please note plagiarism will not be tolerated. You may spend as much time as needed, but as a frame of reference, an hour would be the maximum time frame. If more time is required, please send over the intermediate code at the one hour mark.\n",
    "\n",
    "You may start the assignment whenever you are ready. Once you have completed this task, get back to us along with the code and how long it took you. Please feel free to get in touch with me if you encounter any questions or problems.\n",
    "\n",
    "**Requirements**:\n",
    "\n",
    "Minimum: implementation of the k-means function/class\n",
    "\n",
    "Expected:\n",
    "\n",
    "- Implement an interface similar to Sklearn (subset is fine)\n",
    "- Test code\n",
    "- Visualisation\n",
    "\n",
    "**Deliverable**: Notebook with explanation and HTML output. Try to organise it with the following suggested sections:\n",
    "\n",
    "- K-means function/class\n",
    "- Test\n",
    "- Visualisation"
   ]
  },
  {
   "cell_type": "markdown",
   "id": "bad286a3-595a-4600-8eba-934763a41c2a",
   "metadata": {},
   "source": [
    "## Code outline:\n",
    "Part 1: Kmeans algorithm implemntation.\n",
    "\n",
    "Part 2: Tesdting the code with two differnet data sets.\n",
    "\n",
    "Part 3: Visulaizing the clustering."
   ]
  },
  {
   "cell_type": "code",
   "execution_count": 1,
   "id": "d75d124b-0171-4967-8a13-18f84e1755f2",
   "metadata": {},
   "outputs": [],
   "source": [
    "import pandas as pd\n",
    "import numpy as np\n",
    "import matplotlib.pyplot as plt"
   ]
  },
  {
   "cell_type": "markdown",
   "id": "6a3672a0-e895-4a6f-a94d-9c7a9c0a72b9",
   "metadata": {},
   "source": [
    "### Part 1:\n",
    "The first part of the code has Kmean functions implemntations, each function has a few comments to help reading the code. There are four steps in this part; defining some functions to be used, initializing the centroids, getting the labels of each cluster, and updating the coordinates of the centroids."
   ]
  },
  {
   "cell_type": "markdown",
   "id": "632892a7-865f-43f7-ac61-acd79bed901e",
   "metadata": {},
   "source": [
    "#### Step 1: Some useful functions"
   ]
  },
  {
   "cell_type": "code",
   "execution_count": 2,
   "id": "c1c837d5-b8b9-4b20-9c6b-a8166f55f5d3",
   "metadata": {},
   "outputs": [],
   "source": [
    "# To convert np arrays to tuples\n",
    "def totuple(a):\n",
    "    try:\n",
    "        return tuple(totuple(i) for i in a)\n",
    "    except TypeError:\n",
    "        return a"
   ]
  },
  {
   "cell_type": "code",
   "execution_count": 18,
   "id": "391ba246-066f-4dde-aba2-b7a3665c559d",
   "metadata": {},
   "outputs": [],
   "source": [
    "# To get the range of the points on the x and y axes\n",
    "def random_centroid(low, high):\n",
    "    return low+(high-low) * np.random.random()"
   ]
  },
  {
   "cell_type": "markdown",
   "id": "37f5dac3-7031-4616-8a77-f16b4f182891",
   "metadata": {},
   "source": [
    "#### Step 2: Initialize the centroids"
   ]
  },
  {
   "cell_type": "code",
   "execution_count": 4,
   "id": "3852ef38-9dcb-453f-b014-18ba47ed31c3",
   "metadata": {},
   "outputs": [],
   "source": [
    "# Initialize the centroids\n",
    "def centroid_init(K):\n",
    "    \"\"\"input:\n",
    "    k: number of centroids\n",
    "    output:\n",
    "    U: initial location of the centroids\"\"\"\n",
    "    # Create an empty list to store the centroids\n",
    "    U = []\n",
    "    for i in range(K):\n",
    "        # Generate the coordinates of the centroid\n",
    "        u_x = random_centroid(min(x), max(x))\n",
    "        u_y = random_centroid(min(y),max(y))\n",
    "\n",
    "        # Create the centroid\n",
    "        u = (u_x, u_y)\n",
    "\n",
    "        # Store the new centroid\n",
    "        U.append(u)\n",
    "        \n",
    "    return U"
   ]
  },
  {
   "cell_type": "markdown",
   "id": "6ae9935b-fc62-4168-b6d8-5192d40314e5",
   "metadata": {},
   "source": [
    "#### Step 3: The Argmin function\n",
    "This function will give us the labels of each point as well as the coordinates of the points so we can draw them later."
   ]
  },
  {
   "cell_type": "code",
   "execution_count": 5,
   "id": "6dd3b24f-c986-4f52-a659-a4a163c5a440",
   "metadata": {},
   "outputs": [],
   "source": [
    "def ArgMin(points, k, U):\n",
    "    \"\"\"\n",
    "    input:\n",
    "    points: the points you want to cluster\n",
    "    k: the number of centroids\n",
    "    U: a list of centroids locations\n",
    "    \n",
    "    output:\n",
    "    Centroids: list of lists of points corresponding to each centroid in U respectivally\n",
    "    Lable: list of lists of indecies corresponding to each centroid in U respectivally\n",
    "    \"\"\"\n",
    "    # Define a list of centroids\n",
    "    Centroids = []\n",
    "    # Create a list of the labels of the points in each cluster\n",
    "    for i in range(k):\n",
    "        Centroids.append([])\n",
    "    \n",
    "    distances = {}\n",
    "    Label = []\n",
    "    \n",
    "    for i in range(len(points)):\n",
    "        for j in range(k):\n",
    "            # To find the distance between a point and a centroid\n",
    "            d_x = np.power(points[i][0] - U[j][0], 2)\n",
    "            d_y = np.power(points[i][1] - U[j][1], 2)\n",
    "\n",
    "            d = np.power(d_x + d_y, 0.5)\n",
    "\n",
    "            # Store the distance between a point and each centroid {centroid label: distance form it}\n",
    "            distances[j] = d\n",
    "\n",
    "            # Compare between the distances\n",
    "            d_referance = float('inf')\n",
    "            for label, distance in distances.items():\n",
    "                if distance < d_referance:\n",
    "                    d_referance = distance\n",
    "                    l = label\n",
    "        Centroids[l].append(points[i])\n",
    "        Label.append(l)\n",
    "    \n",
    "    return Centroids, Label"
   ]
  },
  {
   "cell_type": "markdown",
   "id": "30523c9a-1e27-4233-9cf6-cdc01081a272",
   "metadata": {},
   "source": [
    "#### Step 4: Updating the location of the centroids"
   ]
  },
  {
   "cell_type": "code",
   "execution_count": 6,
   "id": "4867a5f3-c2bd-48e7-86fd-79e724b5796b",
   "metadata": {},
   "outputs": [],
   "source": [
    "def U_update(Centroids, U):\n",
    "    \"\"\"\n",
    "    input:\n",
    "    U: a list of centroids locations\n",
    "    Centroids: list of lists of points corresponding to each centroid in U respectivally    \n",
    "    output:\n",
    "    Centroids: an updated list of lists of points corresponding to each centroid in U respectivally\n",
    "    \"\"\"\n",
    "    for j in range(k):\n",
    "        # Get the new x and y coordinates for a centroid\n",
    "        c_x = [x for x,y in C[j]]\n",
    "        c_y = [y for x,y in C[j]]\n",
    "\n",
    "        # Store the new position of the centroid\n",
    "        U[j]=tuple([sum(c_x)/len(c_x), sum(c_y)/len(c_y)])\n",
    "    \n",
    "    return U"
   ]
  },
  {
   "cell_type": "markdown",
   "id": "831f67db-bd61-45a2-824a-7d44180737da",
   "metadata": {},
   "source": [
    "### Part 2:\n",
    "In this part we generate some data to test the algorthim implemented above."
   ]
  },
  {
   "cell_type": "code",
   "execution_count": 7,
   "id": "928494b2-bba9-4014-9374-d080f4fa7e3f",
   "metadata": {},
   "outputs": [],
   "source": [
    "# Generate random points\n",
    "x = np.random.uniform(low=0, high=100, size=100).tolist()\n",
    "y = np.random.uniform(low=0, high=100, size=100).tolist()\n",
    "\n",
    "# Create a list to store the random points\n",
    "points = []\n",
    "for i in range(len(x)):\n",
    "    points.append((x[i], y[i]))"
   ]
  },
  {
   "cell_type": "markdown",
   "id": "29507d66-2fbe-4d8b-aacb-702e07750247",
   "metadata": {},
   "source": [
    "The following data was used to check the code, and it was adopted from an old project I worked on before. It has four clusters in it, and their overlap is not as strong as the data above."
   ]
  },
  {
   "cell_type": "raw",
   "id": "1f6eda49-01a8-49d4-ae93-bed22218f027",
   "metadata": {},
   "source": [
    "points = [[-6.428840947998266, 10.141117387887057],\n",
    " [5.868678884919712, 5.201103558017895],\n",
    " [-0.37610937488566665, 3.2642794268364614],\n",
    " [2.1667918115781717, 9.56300521918858],\n",
    " [5.095085704731294, 7.207527180480231],\n",
    " [-10.878888191149594, -6.113180400834563],\n",
    " [2.034055541118602, 9.76664755215618],\n",
    " [-1.7179877144476108, 1.4140114006529538],\n",
    " [1.1691134097614637, 8.245569882970244],\n",
    " [-1.3518544352927309, 3.1324534540375204],\n",
    " [-6.1854821356557625, 9.674065554703438],\n",
    " [-1.1985660160776135, 2.504089366453676],\n",
    " [2.902968625306456, 7.912510029304244],\n",
    " [2.392500227450193, 5.381739706188428],\n",
    " [-5.275451467256436, 9.638366588811735],\n",
    " [-0.5668146871518737, 0.056026275490682176],\n",
    " [5.973366275133855, 5.871720219253212],\n",
    " [-2.3135526825560575, 0.5239800923523743],\n",
    " [-10.134475610966595, -3.431308370677069],\n",
    " [-4.540826294007317, 11.392017391998055],\n",
    " [-10.41558326938338, -5.675458358055395],\n",
    " [0.6647966932244738, 0.09423047178561017],\n",
    " [2.114604769543774, 3.5593848844586713],\n",
    " [-11.179022089148255, -9.309766048464859],\n",
    " [-6.636982511358251, 6.394264357014962],\n",
    " [-7.67422004581943, -7.268396535372234],\n",
    " [-7.986682604649974, -9.571133080989501],\n",
    " [1.2798368434097702, 0.3531507774469469],\n",
    " [3.5448024388675554, 7.935356780250796],\n",
    " [4.0394018113877035, 4.888704326726142],\n",
    " [-2.8811889757801543, 9.129193914647235],\n",
    " [-9.110099105992715, -7.697816604719698],\n",
    " [5.260011717657308, 4.740074344701907],\n",
    " [2.058597235014227, -2.4408303865828724],\n",
    " [-1.712898336801897, 2.5122119709320296],\n",
    " [-5.405623186876656, 7.47228315276904],\n",
    " [-11.199512264915725, -2.5527674372947766],\n",
    " [-11.375364102886182, -4.9452509125363875],\n",
    " [-11.782183619597355, -9.508830069768326],\n",
    " [1.7481550323849884, 2.0559567946080737],\n",
    " [-9.003923335694054, -6.208162031285014],\n",
    " [-2.865645835992866, 7.529341527409561],\n",
    " [-1.4274229256736635, 8.335190778031768],\n",
    " [-3.1093343152090243, 10.164146430419013],\n",
    " [0.2711300950143205, 2.583038237646317],\n",
    " [0.8215565612951625, 6.769668062658922],\n",
    " [-4.114954811962205, 8.026213447308953],\n",
    " [1.5541492807050865, 3.2765768719558537],\n",
    " [-11.65462114107793, -8.006737204821357],\n",
    " [-1.220096367167577, 4.904662114018048],\n",
    " [3.220176304273833, -0.5949262040703083],\n",
    " [-5.404528920842814, 7.199970270084177],\n",
    " [6.027953509647421, 4.016962396708966],\n",
    " [0.4026004512393698, 0.6734520115802854],\n",
    " [-7.389850087040175, -5.618830753483983],\n",
    " [-1.6053770673516432, 5.985236390431823],\n",
    " [0.8727703615022516, 4.462053002730058],\n",
    " [1.0344524139919222, 1.8120349703691772],\n",
    " [-3.8894301817305, 5.292626531966162],\n",
    " [3.168355294184256, 6.730391909048816],\n",
    " [-8.073096890528902, -7.959240034644401],\n",
    " [0.9161316461081208, 7.461392512342853],\n",
    " [-7.396482975489173, -4.953533515483878],\n",
    " [-1.7163270096438699, 8.485403001691777],\n",
    " [2.7139628283922956, 8.373618211934117],\n",
    " [-2.1657088483979243, -0.9800363685218327],\n",
    " [-11.94743689132695, -6.964326164470866],\n",
    " [4.895392190220613, 6.078679812020913],\n",
    " [2.861778319712988, 8.226111917133471],\n",
    " [-9.153925969205368, -6.267818036087968],\n",
    " [2.034770937022713, 8.202364269228461],\n",
    " [0.7566010798331562, 5.007325851028015],\n",
    " [-8.840394937952547, -5.355493538916571],\n",
    " [-3.0265061016377603, 3.9006659171442584],\n",
    " [-8.880378749720537, -6.131847170585052],\n",
    " [5.207377772873533, 6.425159956768066],\n",
    " [3.1920774543813217, 10.440907721281974],\n",
    " [0.03541003145821631, 2.287807464781545],\n",
    " [-6.947608297904781, 10.30234401986977],\n",
    " [-3.3047302852183824, 2.7455714400637876],\n",
    " [-0.6954738951572903, 3.946560583692485],\n",
    " [-8.334572345194765, -6.053915497168932],\n",
    " [5.512840700362673, 8.535385800741372],\n",
    " [-6.276889509621905, -5.317582771315536],\n",
    " [0.6676241110575267, 0.04738203618395631],\n",
    " [-1.0316130579700813, 0.7897984310294152],\n",
    " [-1.4813638970123557, 0.07813026895873043],\n",
    " [-5.356766768413614, 6.983167226676111],\n",
    " [1.8523007514136582, 3.9331972865556173],\n",
    " [-10.38896241637856, -2.7576575878570435],\n",
    " [-8.374190338711035, -9.487992961315992],\n",
    " [-8.210952265425913, -6.5225770109171215],\n",
    " [-9.800941607333067, -2.080384541144239],\n",
    " [-0.6224938287628201, 5.509124998759611],\n",
    " [0.27188368736134383, 4.905229897149512],\n",
    " [-8.72228610215847, -7.704478814901352],\n",
    " [5.36248494416059, 9.106384797597466],\n",
    " [-3.952840761291541, 7.081831152047123],\n",
    " [-8.262049526833126, -5.923473929822828],\n",
    " [7.603297644569072, 4.39690493623951]]"
   ]
  },
  {
   "cell_type": "code",
   "execution_count": 9,
   "id": "1b85c422-c430-467f-bd0c-4b1cdf213ecd",
   "metadata": {},
   "outputs": [],
   "source": [
    "# Shuffle the list to avoid any bias\n",
    "np.random.shuffle(points)"
   ]
  },
  {
   "cell_type": "code",
   "execution_count": 10,
   "id": "8ef5650c-24dc-4bc0-ae5c-6801b58b3a9d",
   "metadata": {},
   "outputs": [],
   "source": [
    "# Get the x and y components of each point from the passed points\n",
    "x = [x for x,y in points]\n",
    "y = [y for x,y in points]"
   ]
  },
  {
   "cell_type": "markdown",
   "id": "774d7e46-9b4c-4fe3-956a-8a917b084d2e",
   "metadata": {},
   "source": [
    "You can change the number of centroids here and see how the resulting labels and plot (see below) will change."
   ]
  },
  {
   "cell_type": "code",
   "execution_count": 11,
   "id": "1078c38e-e242-4efc-8332-53eeb9292528",
   "metadata": {},
   "outputs": [],
   "source": [
    "# Number of centroids\n",
    "k = 4"
   ]
  },
  {
   "cell_type": "code",
   "execution_count": 12,
   "id": "885f24b2-e4a6-4980-ae9e-2b8d030d3a52",
   "metadata": {},
   "outputs": [],
   "source": [
    "# Get the inital location of the centroids \n",
    "U = centroid_init(k)"
   ]
  },
  {
   "cell_type": "markdown",
   "id": "10e21a66-c6c4-4b44-840b-bc0d4b772ee9",
   "metadata": {},
   "source": [
    "### Part 3:\n",
    "This part uses the data generated from part 2 in the algorithm implemnted in part 1 to test it. The next cell will keep looping until the location of centroids will stop changing."
   ]
  },
  {
   "cell_type": "code",
   "execution_count": 19,
   "id": "5a039cac-d5f9-4125-b759-468617c9f81a",
   "metadata": {},
   "outputs": [],
   "source": [
    "u_old = u_old2 = []\n",
    "for i in range(k):\n",
    "    u_old.append((0,0))    \n",
    "    u_old2.append((0,0))\n",
    "\n",
    "# Repeate until converge    \n",
    "while u_old2 != U:\n",
    "    u_old2 = u_old\n",
    "    \n",
    "    # Get a list of clasified points and labels\n",
    "    C, Labels = ArgMin(points, k, U)\n",
    "    # Update the centroids locations\n",
    "    try:\n",
    "        u_old = U_update(C,U)\n",
    "    except(ZeroDivisionError):\n",
    "        U = centroid_init(k)\n",
    "        C, Labels = ArgMin(points, k, U)\n",
    "        continue\n",
    "\n",
    "    \n",
    "    U = u_old\n"
   ]
  },
  {
   "cell_type": "markdown",
   "id": "dea680fb-7d70-4e32-8ab1-1f5cb448c417",
   "metadata": {},
   "source": [
    "## <span style=\"color:red\"> The next two cells are showing the labels and the coordinates of the centroids.</span>"
   ]
  },
  {
   "cell_type": "code",
   "execution_count": 14,
   "id": "01b2a6bd-3361-46fe-91d0-9007e2ae173d",
   "metadata": {},
   "outputs": [
    {
     "data": {
      "text/plain": [
       "array([1, 2, 2, 2, 1, 0, 3, 1, 3, 0, 3, 0, 3, 1, 3, 0, 3, 3, 2, 2, 2, 2,\n",
       "       3, 0, 2, 1, 2, 1, 3, 0, 1, 1, 3, 2, 3, 2, 0, 0, 1, 2, 3, 3, 3, 2,\n",
       "       0, 1, 2, 2, 3, 3, 3, 2, 1, 3, 3, 0, 3, 0, 3, 3, 3, 1, 2, 3, 2, 0,\n",
       "       0, 3, 3, 3, 1, 0, 1, 0, 0, 1, 3, 2, 3, 1, 2, 3, 1, 0, 3, 3, 2, 2,\n",
       "       2, 1, 1, 2, 2, 0, 3, 2, 3, 0, 0, 1])"
      ]
     },
     "execution_count": 13,
     "metadata": {},
     "output_type": "execute_result"
    }
   ],
   "source": [
    "# Print the labels\n",
    "Labels_array = np.array(Labels).T\n",
    "Labels_array"
   ]
  },
  {
   "cell_type": "code",
   "execution_count": 15,
   "id": "3be645bc-2647-4ecc-a2a9-876cac393624",
   "metadata": {},
   "outputs": [
    {
     "data": {
      "text/plain": [
       "[(81.38796019375158, 88.46302009797921),\n",
       " (20.451590098780716, 74.743983965438),\n",
       " (28.185506592277367, 19.153036711041327),\n",
       " (72.20178632128312, 36.373748868733905)]"
      ]
     },
     "execution_count": 14,
     "metadata": {},
     "output_type": "execute_result"
    }
   ],
   "source": [
    "# coordinates of the centroids\n",
    "U"
   ]
  },
  {
   "cell_type": "markdown",
   "id": "c669c0d9-8a53-47e1-8abf-e6f831b8fee6",
   "metadata": {},
   "source": [
    "### Part 4:\n",
    "This is the last part of the code, and it's visualizing the clustering. Notice that the centroids are slightly transparent and bigger than the rest of the points so they are clearer."
   ]
  },
  {
   "cell_type": "code",
   "execution_count": 21,
   "id": "02f4ea34-deda-40b1-863d-795afa34c242",
   "metadata": {},
   "outputs": [
    {
     "data": {
      "image/png": "[encoded data removed]",
      "text/plain": [
       "<Figure size 432x288 with 1 Axes>"
      ]
     },
     "metadata": {
      "needs_background": "light"
     },
     "output_type": "display_data"
    }
   ],
   "source": [
    "# Visuilize the clustured data\n",
    "for j in range(k):\n",
    "    # Plot the points\n",
    "    plt.scatter(*zip(*C[j]))\n",
    "    # Plot the centroids\n",
    "    plt.scatter(*zip(U[j]), s=250, alpha=0.4)\n",
    "    "
   ]
  },
  {
   "cell_type": "code",
   "execution_count": null,
   "id": "0f57ff07-f4fe-4e85-a266-725e534f0bb0",
   "metadata": {},
   "outputs": [],
   "source": []
  },
  {
   "cell_type": "code",
   "execution_count": null,
   "id": "5e56b686-9644-4235-8f59-f9499f9df9f0",
   "metadata": {},
   "outputs": [],
   "source": []
  }
 ],
 "metadata": {
  "kernelspec": {
   "display_name": "Python [conda env:mltf] *",
   "language": "python",
   "name": "conda-env-mltf-py"
  },
  "language_info": {
   "codemirror_mode": {
    "name": "ipython",
    "version": 3
   },
   "file_extension": ".py",
   "mimetype": "text/x-python",
   "name": "python",
   "nbconvert_exporter": "python",
   "pygments_lexer": "ipython3",
   "version": "3.9.9"
  }
 },
 "nbformat": 4,
 "nbformat_minor": 5
}
