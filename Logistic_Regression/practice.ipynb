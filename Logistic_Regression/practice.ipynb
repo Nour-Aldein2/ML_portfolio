{
 "cells": [
  {
   "cell_type": "code",
   "execution_count": 1,
   "id": "f02f9012-b6c5-4ccd-a887-8e9110fa930d",
   "metadata": {},
   "outputs": [
    {
     "data": {
      "text/html": [
       "        <script type=\"text/javascript\">\n",
       "        window.PlotlyConfig = {MathJaxConfig: 'local'};\n",
       "        if (window.MathJax) {MathJax.Hub.Config({SVG: {font: \"STIX-Web\"}});}\n",
       "        if (typeof require !== 'undefined') {\n",
       "        require.undef(\"plotly\");\n",
       "        requirejs.config({\n",
       "            paths: {\n",
       "                'plotly': ['https://cdn.plot.ly/plotly-2.4.2.min']\n",
       "            }\n",
       "        });\n",
       "        require(['plotly'], function(Plotly) {\n",
       "            window._Plotly = Plotly;\n",
       "        });\n",
       "        }\n",
       "        </script>\n",
       "        "
      ]
     },
     "metadata": {},
     "output_type": "display_data"
    }
   ],
   "source": [
    "import numpy as np\n",
    "import pandas as pd\n",
    "import matplotlib.pyplot as plt\n",
    "import seaborn as sns\n",
    "%matplotlib inline\n",
    "import cufflinks as cf\n",
    "cf.go_offline()"
   ]
  },
  {
   "cell_type": "code",
   "execution_count": 9,
   "id": "8ff3df72-5887-42a0-a283-4fc58ee68f53",
   "metadata": {},
   "outputs": [],
   "source": [
    "dtrain = pd.read_csv('titanic_train.csv')\n",
    "dtest = pd.read_csv('titanic_test.csv')"
   ]
  },
  {
   "cell_type": "code",
   "execution_count": 10,
   "id": "9f942477-e09c-4eab-8e6f-8bd3517b22d1",
   "metadata": {},
   "outputs": [
    {
     "data": {
      "text/html": [
       "<div>\n",
       "<style scoped>\n",
       "    .dataframe tbody tr th:only-of-type {\n",
       "        vertical-align: middle;\n",
       "    }\n",
       "\n",
       "    .dataframe tbody tr th {\n",
       "        vertical-align: top;\n",
       "    }\n",
       "\n",
       "    .dataframe thead th {\n",
       "        text-align: right;\n",
       "    }\n",
       "</style>\n",
       "<table border=\"1\" class=\"dataframe\">\n",
       "  <thead>\n",
       "    <tr style=\"text-align: right;\">\n",
       "      <th></th>\n",
       "      <th>PassengerId</th>\n",
       "      <th>Survived</th>\n",
       "      <th>Pclass</th>\n",
       "      <th>Name</th>\n",
       "      <th>Sex</th>\n",
       "      <th>Age</th>\n",
       "      <th>SibSp</th>\n",
       "      <th>Parch</th>\n",
       "      <th>Ticket</th>\n",
       "      <th>Fare</th>\n",
       "      <th>Cabin</th>\n",
       "      <th>Embarked</th>\n",
       "    </tr>\n",
       "  </thead>\n",
       "  <tbody>\n",
       "    <tr>\n",
       "      <th>0</th>\n",
       "      <td>1</td>\n",
       "      <td>0</td>\n",
       "      <td>3</td>\n",
       "      <td>Braund, Mr. Owen Harris</td>\n",
       "      <td>male</td>\n",
       "      <td>22.0</td>\n",
       "      <td>1</td>\n",
       "      <td>0</td>\n",
       "      <td>A/5 21171</td>\n",
       "      <td>7.2500</td>\n",
       "      <td>NaN</td>\n",
       "      <td>S</td>\n",
       "    </tr>\n",
       "    <tr>\n",
       "      <th>1</th>\n",
       "      <td>2</td>\n",
       "      <td>1</td>\n",
       "      <td>1</td>\n",
       "      <td>Cumings, Mrs. John Bradley (Florence Briggs Th...</td>\n",
       "      <td>female</td>\n",
       "      <td>38.0</td>\n",
       "      <td>1</td>\n",
       "      <td>0</td>\n",
       "      <td>PC 17599</td>\n",
       "      <td>71.2833</td>\n",
       "      <td>C85</td>\n",
       "      <td>C</td>\n",
       "    </tr>\n",
       "    <tr>\n",
       "      <th>2</th>\n",
       "      <td>3</td>\n",
       "      <td>1</td>\n",
       "      <td>3</td>\n",
       "      <td>Heikkinen, Miss. Laina</td>\n",
       "      <td>female</td>\n",
       "      <td>26.0</td>\n",
       "      <td>0</td>\n",
       "      <td>0</td>\n",
       "      <td>STON/O2. 3101282</td>\n",
       "      <td>7.9250</td>\n",
       "      <td>NaN</td>\n",
       "      <td>S</td>\n",
       "    </tr>\n",
       "  </tbody>\n",
       "</table>\n",
       "</div>"
      ],
      "text/plain": [
       "   PassengerId  Survived  Pclass  \\\n",
       "0            1         0       3   \n",
       "1            2         1       1   \n",
       "2            3         1       3   \n",
       "\n",
       "                                                Name     Sex   Age  SibSp  \\\n",
       "0                            Braund, Mr. Owen Harris    male  22.0      1   \n",
       "1  Cumings, Mrs. John Bradley (Florence Briggs Th...  female  38.0      1   \n",
       "2                             Heikkinen, Miss. Laina  female  26.0      0   \n",
       "\n",
       "   Parch            Ticket     Fare Cabin Embarked  \n",
       "0      0         A/5 21171   7.2500   NaN        S  \n",
       "1      0          PC 17599  71.2833   C85        C  \n",
       "2      0  STON/O2. 3101282   7.9250   NaN        S  "
      ]
     },
     "execution_count": 10,
     "metadata": {},
     "output_type": "execute_result"
    }
   ],
   "source": [
    "dtrain.head(3)"
   ]
  },
  {
   "cell_type": "code",
   "execution_count": 16,
   "id": "92dec728-060d-42e0-8d90-ba89168e049f",
   "metadata": {},
   "outputs": [
    {
     "data": {
      "text/plain": [
       "<AxesSubplot:xlabel='Pclass', ylabel='Age'>"
      ]
     },
     "execution_count": 16,
     "metadata": {},
     "output_type": "execute_result"
    },
    {
     "data": {
      "image/png": "[encoded data removed]",
      "text/plain": [
       "<Figure size 432x288 with 1 Axes>"
      ]
     },
     "metadata": {
      "needs_background": "light"
     },
     "output_type": "display_data"
    }
   ],
   "source": [
    "sns.histplot(y=dtrain['Age'],x=dtrain['Pclass'])"
   ]
  },
  {
   "cell_type": "raw",
   "id": "8df508f8-752e-4d5d-b82f-5503b0b68105",
   "metadata": {},
   "source": [
    "sns.heatmap(dtrain.isnull(), yticklabels=False,cbar=False, cmap='viridis')"
   ]
  },
  {
   "cell_type": "raw",
   "id": "3e5f8806-6cb9-437b-bde3-505b1c36ba9d",
   "metadata": {},
   "source": [
    "sns.heatmap(dtest.isnull(), yticklabels=False,cbar=False, cmap='viridis')"
   ]
  },
  {
   "cell_type": "code",
   "execution_count": 3,
   "id": "8b157b1e-2af4-4720-8d6f-d7c9ed506d26",
   "metadata": {},
   "outputs": [],
   "source": [
    "def impute_age(cols):\n",
    "    Age = cols[0]\n",
    "    Pclass = cols[1]\n",
    "\n",
    "    if pd.isnull(Age):\n",
    "\n",
    "        if Pclass == 1:\n",
    "            return 37            # the number 37 is from the graph. # you can use Pandas to find the exact mean\n",
    "        elif Pclass == 2:\n",
    "            return 29\n",
    "        else:\n",
    "            return 24\n",
    "    else:\n",
    "        return Age\n",
    "\n",
    "def clean_data(data):   \n",
    "    \n",
    "    data['Age'] = data[['Age', 'Pclass']].apply(impute_age, axis=1)\n",
    "    \n",
    "    sex = pd.get_dummies(data['Sex'], drop_first=True)\n",
    "    pclass = pd.get_dummies(data['Pclass'], drop_first=True)\n",
    "    embark = pd.get_dummies(data['Embarked'], drop_first=True)\n",
    "    data = pd.concat([data, sex, embark, pclass], axis=1)\n",
    "    \n",
    "    data.drop(['PassengerId', 'Name', 'Ticket', 'Cabin', 'Sex', 'Pclass', 'Embarked'],axis=1, inplace=True)\n",
    "    data.dropna(inplace=True)\n",
    "    return data"
   ]
  },
  {
   "cell_type": "code",
   "execution_count": 4,
   "id": "1158bc52-6821-4572-aa20-c75c94edfa0d",
   "metadata": {},
   "outputs": [],
   "source": [
    "dtrain = clean_data(dtrain)\n",
    "dtest = clean_data(dtest)"
   ]
  },
  {
   "cell_type": "code",
   "execution_count": 5,
   "id": "8b4abe9e-eb31-4013-a467-fe649ab64e12",
   "metadata": {},
   "outputs": [
    {
     "name": "stderr",
     "output_type": "stream",
     "text": [
      "/Users/nour/opt/anaconda3/lib/python3.8/site-packages/sklearn/linear_model/_logistic.py:763: ConvergenceWarning:\n",
      "\n",
      "lbfgs failed to converge (status=1):\n",
      "STOP: TOTAL NO. of ITERATIONS REACHED LIMIT.\n",
      "\n",
      "Increase the number of iterations (max_iter) or scale the data as shown in:\n",
      "    https://scikit-learn.org/stable/modules/preprocessing.html\n",
      "Please also refer to the documentation for alternative solver options:\n",
      "    https://scikit-learn.org/stable/modules/linear_model.html#logistic-regression\n",
      "\n"
     ]
    }
   ],
   "source": [
    "X_train = dtrain.drop('Survived',axis=1)\n",
    "y_train = dtrain['Survived']\n",
    "\n",
    "# Create a model\n",
    "from sklearn.linear_model import LogisticRegression\n",
    "logmodel = LogisticRegression()\n",
    "\n",
    "logmodel.fit(X_train, y_train)\n",
    "predictions = logmodel.predict(dtest)"
   ]
  },
  {
   "cell_type": "raw",
   "id": "bf0df0d2-ceec-4963-ab53-694fe542a34c",
   "metadata": {},
   "source": [
    "# To cheack the validity of our predictions (instead of reading the confusion matrix)\n",
    "from sklearn.metrics import classification_report\n",
    "print(classification_report(y_test, predictions))"
   ]
  },
  {
   "cell_type": "raw",
   "id": "1e2c4940-e407-409c-96ee-742b67fd5e99",
   "metadata": {},
   "source": [
    "# To get the confusion matrix\n",
    "from sklearn.metrics import confusion_matrix\n",
    "confusion_matrix(y_test, predictions)"
   ]
  },
  {
   "cell_type": "code",
   "execution_count": 6,
   "id": "4e164087-bf8f-40db-a055-11bc634e9387",
   "metadata": {},
   "outputs": [
    {
     "name": "stdout",
     "output_type": "stream",
     "text": [
      "153 264\n"
     ]
    }
   ],
   "source": [
    "Survived = list()\n",
    "Died = list()\n",
    "\n",
    "for i in predictions:\n",
    "    if i == 0:\n",
    "        Died.append(i)\n",
    "    else:\n",
    "        Survived.append(i)\n",
    "        \n",
    "        \n",
    "print(len(Survived), len(Died))"
   ]
  },
  {
   "cell_type": "code",
   "execution_count": 7,
   "id": "27090623-1c62-41e6-a3e6-ee581af5169e",
   "metadata": {},
   "outputs": [
    {
     "data": {
      "text/plain": [
       "<AxesSubplot:xlabel='Survival', ylabel='count'>"
      ]
     },
     "execution_count": 7,
     "metadata": {},
     "output_type": "execute_result"
    },
    {
     "data": {
      "image/png": "[encoded data removed]",
      "text/plain": [
       "<Figure size 432x288 with 1 Axes>"
      ]
     },
     "metadata": {
      "needs_background": "light"
     },
     "output_type": "display_data"
    }
   ],
   "source": [
    "sns.countplot(data=pd.DataFrame(predictions, columns=['Survival']),\n",
    "              x='Survival')"
   ]
  },
  {
   "cell_type": "code",
   "execution_count": 8,
   "id": "3c64f316-9214-4126-b9f5-069cb6cf03bd",
   "metadata": {},
   "outputs": [
    {
     "name": "stdout",
     "output_type": "stream",
     "text": [
      "Survival rate =  0.3669064748201439\n",
      "Death rate =  0.6330935251798561\n"
     ]
    }
   ],
   "source": [
    "print('Survival rate = ',len(Survived)/len(predictions))\n",
    "print('Death rate = ',len(Died)/len(predictions))"
   ]
  },
  {
   "cell_type": "code",
   "execution_count": null,
   "id": "16c1c235-fec0-445d-a5b7-ee0b5b2cbca0",
   "metadata": {},
   "outputs": [],
   "source": []
  }
 ],
 "metadata": {
  "kernelspec": {
   "display_name": "Python 3",
   "language": "python",
   "name": "python3"
  },
  "language_info": {
   "codemirror_mode": {
    "name": "ipython",
    "version": 3
   },
   "file_extension": ".py",
   "mimetype": "text/x-python",
   "name": "python",
   "nbconvert_exporter": "python",
   "pygments_lexer": "ipython3",
   "version": "3.8.8"
  }
 },
 "nbformat": 4,
 "nbformat_minor": 5
}
